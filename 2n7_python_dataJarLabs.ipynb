{
  "nbformat": 4,
  "nbformat_minor": 0,
  "metadata": {
    "colab": {
      "name": "2n7 python dataJarLabs.ipynb",
      "provenance": []
    },
    "kernelspec": {
      "name": "python3",
      "display_name": "Python 3"
    }
  },
  "cells": [
    {
      "cell_type": "code",
      "metadata": {
        "id": "8-AzH0-8c2jc",
        "colab_type": "code",
        "colab": {}
      },
      "source": [
        "import pandas as pd\n",
        "import numpy as np\n",
        "import warnings\n",
        "warnings.filterwarnings('ignore')"
      ],
      "execution_count": 0,
      "outputs": []
    },
    {
      "cell_type": "code",
      "metadata": {
        "id": "IhYbckfV4U6x",
        "colab_type": "code",
        "colab": {
          "base_uri": "https://localhost:8080/",
          "height": 67
        },
        "outputId": "a5b0f803-ca64-42e1-9707-5515751793c4"
      },
      "source": [
        "alfabe=['a','b','c','d','e','f','g','h','i','j'] #Kullanacağımız data listelerini oluşturdum.\n",
        "print(alfabe)\n",
        "fibArray = [1,1,2] \n",
        "while len(fibArray)<10:   \n",
        " fibArray.append(fibArray[-1] + fibArray[-2])  \n",
        "print(fibArray)\n",
        "asallarList=[]\n",
        "for x in range(1,32):\n",
        "    count=0\n",
        "    if x<=2:\n",
        "        print (x,end=\" \")\n",
        "    elif x%2!=0:\n",
        "        for y in range(2,x//2):\n",
        "            if (x%y)==0:\n",
        "                count+=1\n",
        "        if count==0:\n",
        "            asallarList.append(x)\n",
        "print(asallarList)"
      ],
      "execution_count": 28,
      "outputs": [
        {
          "output_type": "stream",
          "text": [
            "['a', 'b', 'c', 'd', 'e', 'f', 'g', 'h', 'i', 'j']\n",
            "[1, 1, 2, 3, 5, 8, 13, 21, 34, 55]\n",
            "1 2 [3, 5, 7, 11, 13, 17, 19, 23, 29, 31]\n"
          ],
          "name": "stdout"
        }
      ]
    },
    {
      "cell_type": "code",
      "metadata": {
        "id": "DW3bCwym4pbb",
        "colab_type": "code",
        "colab": {
          "base_uri": "https://localhost:8080/",
          "height": 343
        },
        "outputId": "c639b6ec-0039-4224-a2a3-9d31b83090b1"
      },
      "source": [
        "df = pd.DataFrame({'İlk 10 Asal Sayı' : asallarList, #Done!!! :D\n",
        "                  'İlk 10 Fibonacci' : fibArray},\n",
        "                  index=alfabe)\n",
        "    \n",
        "df"
      ],
      "execution_count": 30,
      "outputs": [
        {
          "output_type": "execute_result",
          "data": {
            "text/html": [
              "<div>\n",
              "<style scoped>\n",
              "    .dataframe tbody tr th:only-of-type {\n",
              "        vertical-align: middle;\n",
              "    }\n",
              "\n",
              "    .dataframe tbody tr th {\n",
              "        vertical-align: top;\n",
              "    }\n",
              "\n",
              "    .dataframe thead th {\n",
              "        text-align: right;\n",
              "    }\n",
              "</style>\n",
              "<table border=\"1\" class=\"dataframe\">\n",
              "  <thead>\n",
              "    <tr style=\"text-align: right;\">\n",
              "      <th></th>\n",
              "      <th>İlk 10 Asal Sayı</th>\n",
              "      <th>İlk 10 Fibonacci</th>\n",
              "    </tr>\n",
              "  </thead>\n",
              "  <tbody>\n",
              "    <tr>\n",
              "      <th>a</th>\n",
              "      <td>3</td>\n",
              "      <td>1</td>\n",
              "    </tr>\n",
              "    <tr>\n",
              "      <th>b</th>\n",
              "      <td>5</td>\n",
              "      <td>1</td>\n",
              "    </tr>\n",
              "    <tr>\n",
              "      <th>c</th>\n",
              "      <td>7</td>\n",
              "      <td>2</td>\n",
              "    </tr>\n",
              "    <tr>\n",
              "      <th>d</th>\n",
              "      <td>11</td>\n",
              "      <td>3</td>\n",
              "    </tr>\n",
              "    <tr>\n",
              "      <th>e</th>\n",
              "      <td>13</td>\n",
              "      <td>5</td>\n",
              "    </tr>\n",
              "    <tr>\n",
              "      <th>f</th>\n",
              "      <td>17</td>\n",
              "      <td>8</td>\n",
              "    </tr>\n",
              "    <tr>\n",
              "      <th>g</th>\n",
              "      <td>19</td>\n",
              "      <td>13</td>\n",
              "    </tr>\n",
              "    <tr>\n",
              "      <th>h</th>\n",
              "      <td>23</td>\n",
              "      <td>21</td>\n",
              "    </tr>\n",
              "    <tr>\n",
              "      <th>i</th>\n",
              "      <td>29</td>\n",
              "      <td>34</td>\n",
              "    </tr>\n",
              "    <tr>\n",
              "      <th>j</th>\n",
              "      <td>31</td>\n",
              "      <td>55</td>\n",
              "    </tr>\n",
              "  </tbody>\n",
              "</table>\n",
              "</div>"
            ],
            "text/plain": [
              "   İlk 10 Asal Sayı  İlk 10 Fibonacci\n",
              "a                 3                 1\n",
              "b                 5                 1\n",
              "c                 7                 2\n",
              "d                11                 3\n",
              "e                13                 5\n",
              "f                17                 8\n",
              "g                19                13\n",
              "h                23                21\n",
              "i                29                34\n",
              "j                31                55"
            ]
          },
          "metadata": {
            "tags": []
          },
          "execution_count": 30
        }
      ]
    },
    {
      "cell_type": "code",
      "metadata": {
        "id": "DY52kx7--FsS",
        "colab_type": "code",
        "colab": {}
      },
      "source": [
        "train=pd.read_csv('train.csv')#Train dosyasını çağırdım!"
      ],
      "execution_count": 0,
      "outputs": []
    },
    {
      "cell_type": "code",
      "metadata": {
        "id": "Un3kDFAoACls",
        "colab_type": "code",
        "colab": {
          "base_uri": "https://localhost:8080/",
          "height": 84
        },
        "outputId": "81413372-fc59-431f-c9ef-161fa75fbeb7"
      },
      "source": [
        "train.groupby('Sex').mean()['Age'] #Done!!!"
      ],
      "execution_count": 35,
      "outputs": [
        {
          "output_type": "execute_result",
          "data": {
            "text/plain": [
              "Sex\n",
              "female    27.915709\n",
              "male      30.726645\n",
              "Name: Age, dtype: float64"
            ]
          },
          "metadata": {
            "tags": []
          },
          "execution_count": 35
        }
      ]
    },
    {
      "cell_type": "code",
      "metadata": {
        "id": "t3daII38Anj7",
        "colab_type": "code",
        "colab": {
          "base_uri": "https://localhost:8080/",
          "height": 84
        },
        "outputId": "f72b3659-ef43-4064-c327-c18727db5d7e"
      },
      "source": [
        "otuzdankücükler=train[train['Age']<30]#Biraz dağınık ama çalıştı optimize edilebilir ileride :S\n",
        "otuzdankücüklersurvived=otuzdankücükler.groupby(by='Sex').sum()['Survived']\n",
        "ratio=otuzdankücüklersurvived/otuzdankücükler.count()['Survived']\n",
        "ratio"
      ],
      "execution_count": 43,
      "outputs": [
        {
          "output_type": "execute_result",
          "data": {
            "text/plain": [
              "Sex\n",
              "female    0.273438\n",
              "male      0.132812\n",
              "Name: Survived, dtype: float64"
            ]
          },
          "metadata": {
            "tags": []
          },
          "execution_count": 43
        }
      ]
    },
    {
      "cell_type": "code",
      "metadata": {
        "id": "ZBJN4VATDbbq",
        "colab_type": "code",
        "colab": {}
      },
      "source": [
        ""
      ],
      "execution_count": 0,
      "outputs": []
    }
  ]
}